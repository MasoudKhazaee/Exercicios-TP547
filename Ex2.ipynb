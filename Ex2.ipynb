{
  "nbformat": 4,
  "nbformat_minor": 0,
  "metadata": {
    "colab": {
      "provenance": []
    },
    "kernelspec": {
      "name": "python3",
      "display_name": "Python 3"
    },
    "language_info": {
      "name": "python"
    }
  },
  "cells": [
    {
      "cell_type": "code",
      "execution_count": 2,
      "metadata": {
        "colab": {
          "base_uri": "https://localhost:8080/"
        },
        "id": "it5Dyd3vjstZ",
        "outputId": "dc0ad677-cd37-4ba7-f4c4-5c5977f6c96f"
      },
      "outputs": [
        {
          "output_type": "stream",
          "name": "stdout",
          "text": [
            "[3. 6. 5. ... 4. 4. 6.]\n",
            "a probabilidade e 0.74381\n"
          ]
        }
      ],
      "source": [
        "import numpy as np\n",
        "import matplotlib.pyplot as plt\n",
        "\n",
        "lambda1=6 #N\n",
        "N=100000 #Numero de amostras\n",
        "value=8\n",
        "count=0\n",
        "av=np.array([])\n",
        "x=np.random.uniform(0,1,N)\n",
        "for ix in x:\n",
        "    i = 0\n",
        "    pr = np.exp(-lambda1)\n",
        "    F=pr\n",
        "    while ix>=F:\n",
        "        pr=lambda1/(i+1)*pr\n",
        "        F = F + pr\n",
        "        i = i + 1;\n",
        "    a1=i\n",
        "    av=np.append(av,a1)\n",
        "\n",
        "print(av)\n",
        "\n",
        "for poissonvalue in av:\n",
        "    if poissonvalue< value:\n",
        "        count=count+1\n",
        "prob=count/N\n",
        "print(\"a probabilidade e\",prob)"
      ]
    }
  ]
}