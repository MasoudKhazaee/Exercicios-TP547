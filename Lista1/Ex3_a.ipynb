{
  "nbformat": 4,
  "nbformat_minor": 0,
  "metadata": {
    "colab": {
      "provenance": []
    },
    "kernelspec": {
      "name": "python3",
      "display_name": "Python 3"
    },
    "language_info": {
      "name": "python"
    }
  },
  "cells": [
    {
      "cell_type": "code",
      "execution_count": 3,
      "metadata": {
        "colab": {
          "base_uri": "https://localhost:8080/",
          "height": 467
        },
        "id": "it5Dyd3vjstZ",
        "outputId": "f8095516-cc64-434a-8590-c37acaa2333e"
      },
      "outputs": [
        {
          "output_type": "stream",
          "name": "stdout",
          "text": [
            "[0. 1. 2. ... 2. 0. 0.]\n",
            "a probabilidade e 0.89517\n"
          ]
        },
        {
          "output_type": "display_data",
          "data": {
            "text/plain": [
              "<Figure size 640x480 with 1 Axes>"
            ],
            "image/png": "[encoded data removed]"
          },
          "metadata": {}
        }
      ],
      "source": [
        "import numpy as np\n",
        "\n",
        "\n",
        "q=0.15#Probabilidade de acerto\n",
        "n=8 #NÃºmero de tentativas\n",
        "value=2\n",
        "N=100000#NÃºmero de amostras\n",
        "c = q/(1-q)\n",
        "av=np.array([])\n",
        "count=0\n",
        "x=np.random.uniform(0,1,N)\n",
        "for ix in x:\n",
        "    i = 0\n",
        "    pr = pow((1 - q),n)\n",
        "    F = pr\n",
        "    while ix>=F:\n",
        "        pr = (c * (n - i) / (i + 1))* pr;\n",
        "        F = F + pr;\n",
        "        i = i + 1;\n",
        "    a1=i\n",
        "    av=np.append(av,a1)\n",
        "\n",
        "print(av)\n",
        "\n",
        "for binvalue in av:\n",
        "    if binvalue<=value:\n",
        "        count=count+1\n",
        "prob=count/N\n",
        "print(\"a probabilidade e\",prob)\n",
        "plt.hist(av,bins=100,density=True)\n",
        "plt.show( )"
      ]
    }
  ]
}