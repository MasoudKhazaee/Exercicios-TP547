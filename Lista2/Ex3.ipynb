{
  "nbformat": 4,
  "nbformat_minor": 0,
  "metadata": {
    "colab": {
      "provenance": []
    },
    "kernelspec": {
      "name": "python3",
      "display_name": "Python 3"
    },
    "language_info": {
      "name": "python"
    }
  },
  "cells": [
    {
      "cell_type": "code",
      "execution_count": 3,
      "metadata": {
        "colab": {
          "base_uri": "https://localhost:8080/"
        },
        "id": "mWtP6mfyFl0S",
        "outputId": "b184778d-f050-4b2f-86ca-db6b2672e3f6"
      },
      "outputs": [
        {
          "output_type": "stream",
          "name": "stdout",
          "text": [
            "0.05445\n",
            "-45549\n"
          ]
        }
      ],
      "source": [
        "import numpy as np\n",
        "import matplotlib.pyplot as plt\n",
        "from random import randint\n",
        "\n",
        "import scipy.stats as sci\n",
        "\n",
        "n=100000\n",
        "cont = 0\n",
        "r = 1\n",
        "dado1 = np.zeros((1,6))\n",
        "for i in range(6):\n",
        "    dado1[0, i] = i+1\n",
        "dado2 = dado1\n",
        "dado3 = dado1\n",
        "dado4 = dado1\n",
        "\n",
        "for c in range(n):\n",
        "    if r < 100:\n",
        "        r = r - 1\n",
        "        a = randint(0, 5)\n",
        "        x1 = dado1[0, a]\n",
        "        a = randint(0, 5)\n",
        "        x2 = dado2[0, a]\n",
        "        a = randint(0, 5)\n",
        "        x3 = dado3[0, a]\n",
        "        a = randint(0, 5)\n",
        "        x4 = dado4[0, a]\n",
        "    if (x1 + x2 + x3 + x4) < 9:\n",
        "        cont = cont + 1\n",
        "        r = r + 10\n",
        "prob = cont/n\n",
        "print(prob)\n",
        "print(r)\n"
      ]
    }
  ]
}