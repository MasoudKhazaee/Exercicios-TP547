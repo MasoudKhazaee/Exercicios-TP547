{
  "nbformat": 4,
  "nbformat_minor": 0,
  "metadata": {
    "colab": {
      "provenance": []
    },
    "kernelspec": {
      "name": "python3",
      "display_name": "Python 3"
    },
    "language_info": {
      "name": "python"
    }
  },
  "cells": [
    {
      "cell_type": "code",
      "execution_count": 4,
      "metadata": {
        "colab": {
          "base_uri": "https://localhost:8080/"
        },
        "id": "gQE74BaKP5eA",
        "outputId": "186acc2c-c0fd-4acc-b6e0-13ce405202d6"
      },
      "outputs": [
        {
          "output_type": "stream",
          "name": "stdout",
          "text": [
            "92.03666870956002\n"
          ]
        }
      ],
      "source": [
        "import numpy as np\n",
        "import matplotlib.pyplot as plt\n",
        "\n",
        "N=100000\n",
        "y=np.random.uniform(0,1,N)\n",
        "integral=sum(np.exp(4*y-2+(4*y-2)**2)*4)/N\n",
        "print(integral)"
      ]
    },
    {
      "cell_type": "code",
      "source": [
        "import numpy as np\n",
        "import matplotlib.pyplot as plt\n",
        "N = 100000\n",
        "#gerar N amostras uniformes\n",
        "y = np.random.uniform(0, 1, N)\n",
        "#Gerar as amostras de g(x)\n",
        "yexp = np.log(y*(np.exp(1)-1)+1)\n",
        "#calcular a integral\n",
        "integral=sum((np.exp(4*yexp-2+(4*yexp-2)**2)*4)/(np.exp(yexp)/(np.exp(1)-1)))/N\n",
        "print(f'Integral = {integral:.4f}')\n",
        "#plotar o grafico\n",
        "x = np.linspace(0, 1, N)\n",
        "curve_y = np.exp(x+x**2)\n",
        "plt.plot(x, curve_y, color='black')\n",
        "plt.fill_between(x, curve_y, color='blue')\n",
        "plt.text(0.5, 0.8, f'Integral = {integral:.4f}', fontsize=12, color='red')\n",
        "plt.xlim(0, 1)\n",
        "plt.ylim(0, 1)\n",
        "plt.xlabel('x')\n",
        "plt.ylabel('y')\n",
        "plt.show()"
      ],
      "metadata": {
        "colab": {
          "base_uri": "https://localhost:8080/",
          "height": 473
        },
        "id": "xpY_gPytS0Sz",
        "outputId": "f1448cce-9087-4ad8-af0f-e160be1de06f"
      },
      "execution_count": 7,
      "outputs": [
        {
          "output_type": "stream",
          "name": "stdout",
          "text": [
            "Integral = 94.4162\n"
          ]
        },
        {
          "output_type": "display_data",
          "data": {
            "text/plain": [
              "<Figure size 640x480 with 1 Axes>"
            ],
            "image/png": "[encoded data removed]"
          },
          "metadata": {}
        }
      ]
    }
  ]
}