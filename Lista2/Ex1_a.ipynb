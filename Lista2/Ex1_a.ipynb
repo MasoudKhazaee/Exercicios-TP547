{
  "nbformat": 4,
  "nbformat_minor": 0,
  "metadata": {
    "colab": {
      "provenance": []
    },
    "kernelspec": {
      "name": "python3",
      "display_name": "Python 3"
    },
    "language_info": {
      "name": "python"
    }
  },
  "cells": [
    {
      "cell_type": "code",
      "execution_count": 2,
      "metadata": {
        "colab": {
          "base_uri": "https://localhost:8080/"
        },
        "id": "qB4wt46_AuXF",
        "outputId": "39280505-c4bc-487f-ee07-65703006392d"
      },
      "outputs": [
        {
          "output_type": "stream",
          "name": "stdout",
          "text": [
            "[1.32923179 1.60168949 1.29726144 ... 1.54972131 2.09308166 2.25364038]\n",
            "a probabilidade e 0.07369053159999998\n"
          ]
        }
      ],
      "source": [
        "import numpy as np\n",
        "import matplotlib.pyplot as plt\n",
        "\n",
        "import scipy.stats as sci\n",
        "\n",
        "n=100000\n",
        "xfunction=np.array([])\n",
        "mu=10*0.25;\n",
        "sigma=np.sqrt(10*0.25*0.75);\n",
        "value1=1.5;\n",
        "value2=2.5;\n",
        "\n",
        "count=0;\n",
        "\n",
        "for i in range(n):\n",
        "    x1=np.random.uniform(0,1)\n",
        "    xexp=-np.log(x1);\n",
        "    x2=np.random.uniform(0,1)\n",
        "\n",
        "    while (x2 >=(np.exp(-pow((xexp-1),2)/2))):\n",
        "        x1=np.random.uniform(0,1)\n",
        "        xexp=-np.log(x1);\n",
        "        x2=np.random.uniform(0,1)\n",
        "    x3=np.random.uniform(0,1)\n",
        "    if x3<=0.5:\n",
        "        xfunction = np.append(xfunction, xexp)\n",
        "    else:\n",
        "        xfunction = np.append(xfunction, -xexp)\n",
        "\n",
        "normvalue=sigma*xfunction+mu;\n",
        "\n",
        "print(normvalue)\n",
        "\n",
        "for uninormal in normvalue:\n",
        "    if value1<=uninormal<=value2:\n",
        "        count=count+1\n",
        "prob=count/n\n",
        "print(\"a probabilidade e\",prob*prob)"
      ]
    }
  ]
}