{
  "nbformat": 4,
  "nbformat_minor": 0,
  "metadata": {
    "colab": {
      "provenance": []
    },
    "kernelspec": {
      "name": "python3",
      "display_name": "Python 3"
    },
    "language_info": {
      "name": "python"
    }
  },
  "cells": [
    {
      "cell_type": "code",
      "execution_count": 2,
      "metadata": {
        "colab": {
          "base_uri": "https://localhost:8080/"
        },
        "id": "A-KTJsVUqyCP",
        "outputId": "4f351a37-3524-4381-cc52-c49e6958f68c"
      },
      "outputs": [
        {
          "output_type": "stream",
          "name": "stdout",
          "text": [
            "0.59737\n"
          ]
        }
      ],
      "source": [
        "import numpy as np\n",
        "import matplotlib.pyplot as plt\n",
        "from random import randint\n",
        "\n",
        "import scipy.stats as sci\n",
        "\n",
        "n=100000\n",
        "cont = 0\n",
        "dado1 = np.zeros((1,6))\n",
        "for i in range(6):\n",
        "    dado1[0, i] = i+1\n",
        "dado2 = dado1\n",
        "dado3 = dado1\n",
        "dado4 = dado1\n",
        "dado5 = dado1\n",
        "\n",
        "for c in range(n):\n",
        "    a = randint(0, 5)\n",
        "    x1 = dado1[0, a]\n",
        "    a = randint(0, 5)\n",
        "    x2 = dado2[0, a]\n",
        "    a = randint(0, 5)\n",
        "    x3 = dado3[0, a]\n",
        "    a = randint(0, 5)\n",
        "    x4 = dado4[0, a]\n",
        "    a = randint(0, 5)\n",
        "    x5 = dado5[0, a]\n",
        "    if x1 == 6 or x2 == 6 or x3 == 6 or x4 == 6 or x5 == 6:\n",
        "        cont = cont + 1\n",
        "prob = cont/n\n",
        "print(prob)\n"
      ]
    }
  ]
}