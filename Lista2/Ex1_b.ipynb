{
  "nbformat": 4,
  "nbformat_minor": 0,
  "metadata": {
    "colab": {
      "provenance": []
    },
    "kernelspec": {
      "name": "python3",
      "display_name": "Python 3"
    },
    "language_info": {
      "name": "python"
    }
  },
  "cells": [
    {
      "cell_type": "code",
      "execution_count": 1,
      "metadata": {
        "colab": {
          "base_uri": "https://localhost:8080/"
        },
        "id": "fJDMkyv18-jM",
        "outputId": "fd4512ea-de74-4212-f019-37435cfbd98f"
      },
      "outputs": [
        {
          "output_type": "stream",
          "name": "stdout",
          "text": [
            "0.07654\n"
          ]
        }
      ],
      "source": [
        "import numpy as np\n",
        "import matplotlib.pyplot as plt\n",
        "from random import randint\n",
        "\n",
        "import scipy.stats as sci\n",
        "\n",
        "n=100000\n",
        "cont = 0\n",
        "chapel = np.zeros((4, 10))\n",
        "verm = 0  # vermelha bolas 1\n",
        "azul = 0  # azuis bolas 2\n",
        "amar = 0  # amarelas bolas 3\n",
        "roxa = 0  # roxas bolas 4\n",
        "chapel[0, :] = np.ones((1, 10))\n",
        "chapel[1, :] = np.ones((1, 10)) * 2\n",
        "chapel[2, :] = np.ones((1, 10)) * 3\n",
        "chapel[3, :] = np.ones((1, 10)) * 4\n",
        "\n",
        "for m in range(10):\n",
        "    np.random.shuffle(chapel[:, m])\n",
        "\n",
        "for c in range(n):\n",
        "    for i in range(10):\n",
        "        a = randint(0, 3)\n",
        "        b = randint(0, 9)\n",
        "        x = chapel[a, b]\n",
        "        if x == 2:\n",
        "            azul = azul + 1\n",
        "        elif x == 4:\n",
        "            roxa = roxa + 1\n",
        "    if azul == 2 and roxa == 2:\n",
        "        cont = cont + 1\n",
        "    azul = 0\n",
        "    roxa = 0\n",
        "prob = cont/n\n",
        "print(prob)"
      ]
    }
  ]
}